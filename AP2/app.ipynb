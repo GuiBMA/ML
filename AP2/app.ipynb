{
 "cells": [
  {
   "cell_type": "markdown",
   "id": "de601589",
   "metadata": {},
   "source": [
    "# Código "
   ]
  },
  {
   "cell_type": "markdown",
   "id": "18b75cf6",
   "metadata": {},
   "source": [
    "## Importações"
   ]
  },
  {
   "cell_type": "code",
   "execution_count": null,
   "id": "17bb5c27",
   "metadata": {},
   "outputs": [],
   "source": [
    "import pandas as pd\n",
    "import numpy as np\n",
    "import sklearn\n",
    "from imblearn.over_sampling import SMOTE\n",
    "from imblearn.under_sampling import RandomUnderSampler\n",
    "from imblearn.pipeline import Pipeline"
   ]
  },
  {
   "cell_type": "markdown",
   "id": "12392c48",
   "metadata": {},
   "source": [
    "## Visualização do Dataset"
   ]
  },
  {
   "cell_type": "code",
   "execution_count": null,
   "id": "79bde8bc",
   "metadata": {},
   "outputs": [],
   "source": [
    "df = pd.read_csv()\n",
    "df.head()"
   ]
  },
  {
   "cell_type": "code",
   "execution_count": null,
   "id": "4fb45f12",
   "metadata": {},
   "outputs": [],
   "source": [
    "df.describe()"
   ]
  },
  {
   "cell_type": "markdown",
   "id": "b7e3103c",
   "metadata": {},
   "source": [
    "## Contagem de dados nulos"
   ]
  },
  {
   "cell_type": "code",
   "execution_count": null,
   "id": "2680725e",
   "metadata": {},
   "outputs": [],
   "source": [
    "\n",
    "def encontrar_dados_nulos(dataset):\n",
    "    # Calcula a quantidade de valores nulos por coluna\n",
    "    quantidade_nulos = dataset.isnull().sum()\n",
    "\n",
    "    # Calcula a porcentagem de valores nulos por coluna\n",
    "    porcentagem_nulos = (dataset.isnull().sum() / len(dataset)) * 100\n",
    "\n",
    "    # Cria um DataFrame para exibir os resultados\n",
    "    dados_nulos = pd.DataFrame({\n",
    "        'Quantidade de Nulos': quantidade_nulos,\n",
    "        'Porcentagem de Nulos': porcentagem_nulos\n",
    "    })\n",
    "\n",
    "    return dados_nulos\n",
    "\n",
    "encontrar_dados_nulos(df)\n"
   ]
  },
  {
   "cell_type": "markdown",
   "id": "0f7ec58f",
   "metadata": {},
   "source": [
    "## Balanceamento do dataset"
   ]
  },
  {
   "cell_type": "code",
   "execution_count": null,
   "id": "5854ae61",
   "metadata": {},
   "outputs": [],
   "source": [
    "def balancear_dataset(dataset, target_column):\n",
    "    # Verifica a distribuição das classes\n",
    "    class_distribution = dataset[target_column].value_counts()\n",
    "    print(\"Distribuição das classes antes do balanceamento:\")\n",
    "    print(class_distribution)\n",
    "    \n",
    "    # Define as técnicas de oversampling e undersampling\n",
    "    over = SMOTE(sampling_strategy=0.5)\n",
    "    under = RandomUnderSampler(sampling_strategy=0.8)\n",
    "    \n",
    "    # Cria o pipeline de balanceamento\n",
    "    steps = [('o', over), ('u', under)]\n",
    "    pipeline = Pipeline(steps=steps)\n",
    "    \n",
    "    # Separa as features e a variável alvo\n",
    "    X = dataset.drop(columns=[target_column])\n",
    "    y = dataset[target_column]\n",
    "    \n",
    "    # Aplica o balanceamento\n",
    "    X_bal, y_bal = pipeline.fit_resample(X, y)\n",
    "    \n",
    "    # Cria o dataset balanceado\n",
    "    dataset_bal = pd.concat([X_bal, y_bal], axis=1)\n",
    "    \n",
    "    # Verifica a nova distribuição das classes\n",
    "    class_distribution_bal = dataset_bal[target_column].value_counts()\n",
    "    print(\"Distribuição das classes após o balanceamento:\")\n",
    "    print(class_distribution_bal)\n",
    "    \n",
    "    return dataset_bal\n",
    "\n",
    "\n",
    "df_balanceado = balancear_dataset(df, 'nome_da_coluna_alvo')"
   ]
  }
 ],
 "metadata": {
  "kernelspec": {
   "display_name": "Python 3",
   "language": "python",
   "name": "python3"
  },
  "language_info": {
   "name": "python",
   "version": "3.9.5"
  }
 },
 "nbformat": 4,
 "nbformat_minor": 5
}
